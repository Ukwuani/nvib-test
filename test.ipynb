{
 "cells": [
  {
   "cell_type": "code",
   "execution_count": 35,
   "metadata": {},
   "outputs": [],
   "source": [
    "import torch\n",
    "import torch.nn as nn\n",
    "import torch.optim as optim\n",
    "from torch.utils.data import DataLoader, TensorDataset\n",
    "import numpy as np\n",
    "import pandas as pd\n",
    "from sklearn.preprocessing import OrdinalEncoder, StandardScaler\n",
    "from nvib import VIB\n",
    "import matplotlib.pyplot as plt\n"
   ]
  },
  {
   "attachments": {},
   "cell_type": "markdown",
   "metadata": {},
   "source": [
    "## Data Loader"
   ]
  },
  {
   "cell_type": "code",
   "execution_count": 36,
   "metadata": {},
   "outputs": [],
   "source": [
    "data = pd.read_csv('./data/adult.csv')\n",
    "data['income'].replace({'<=50K': \"below50\", '>50K': \"above50\"})\n",
    "categorical_cols = ['workclass', 'education', 'marital-status', 'occupation', 'relationship', 'race', 'sex', 'native-country', 'income']\n",
    "numerical_cols = ['age', 'fnlwgt', 'education-num', 'capital-gain', 'capital-loss', 'hours-per-week']\n",
    "ordinal = OrdinalEncoder()\n",
    "scaler = StandardScaler()\n",
    "\n",
    "\n",
    "def data_cleanup(data):\n",
    "    data.dropna()\n",
    "    for col in categorical_cols:\n",
    "        data[col] = data[col].str.strip()\n",
    "        data.drop(data[(data[col] == \"?\")].index, inplace=True)\n",
    "    return data\n",
    "\n",
    "def data_inversify(synthetic_data):\n",
    "    inverse_data = pd.DataFrame()\n",
    "    num_cols = synthetic_data.numpy()[:,[0,2,4,10,11,12]]\n",
    "    cat_cols = synthetic_data.numpy()[:,[1, 3, 5, 6,7,8,9,13,14]]\n",
    "    inverse_data[categorical_cols] = ordinal.inverse_transform(cat_cols)\n",
    "    inverse_data[numerical_cols] = scaler.inverse_transform(num_cols)\n",
    "    return inverse_data\n",
    "\n",
    "def data_to_matrix(data, cat_cols, num_cols):\n",
    "    # Preprocess the categorical variables\n",
    "    data[cat_cols] = ordinal.fit_transform(data[cat_cols])\n",
    "    # min_max_scaler = MinMaxScaler()\n",
    "    # data[cat_cols] = min_max_scaler.fit_transform(data[cat_cols])\n",
    "    # Preprocess the numerical variables\n",
    "    data[numerical_cols] = scaler.fit_transform(data[num_cols])\n",
    "    # Convert DataFrame to PyTorch tensors\n",
    "    tensors = torch.tensor(data.values, dtype=torch.float32)\n",
    "    return tensors\n",
    "\n",
    "data = data_cleanup(data)\n",
    "data = data_to_matrix(data, categorical_cols, numerical_cols)\n",
    "\n",
    "train_loader = DataLoader(TensorDataset(data), shuffle=True)\n"
   ]
  },
  {
   "attachments": {},
   "cell_type": "markdown",
   "metadata": {},
   "source": [
    "## Hyperparameters"
   ]
  },
  {
   "cell_type": "code",
   "execution_count": 37,
   "metadata": {},
   "outputs": [],
   "source": [
    "input_dim = data.shape[1]\n",
    "latent_dim = 32\n",
    "beta = 1.0\n",
    "learning_rate = 1e-3\n",
    "num_epochs = 3\n",
    "batch_size = 50"
   ]
  },
  {
   "attachments": {},
   "cell_type": "markdown",
   "metadata": {},
   "source": [
    "## Loss Functions"
   ]
  },
  {
   "cell_type": "code",
   "execution_count": 38,
   "metadata": {},
   "outputs": [],
   "source": [
    "# Define the information bottleneck loss function\n",
    "def information_bottleneck_loss(mu, log_var):\n",
    "    kl_divergence = -0.5 * torch.sum(1 + log_var - mu.pow(2) - log_var.exp(), dim=1)\n",
    "    return torch.mean(kl_divergence)\n",
    "\n",
    "cross_entropy_loss = nn.CrossEntropyLoss()"
   ]
  },
  {
   "cell_type": "code",
   "execution_count": 39,
   "metadata": {},
   "outputs": [
    {
     "name": "stdout",
     "output_type": "stream",
     "text": [
      "Epoch 1/3, Loss: 10.3687\n",
      "Epoch 2/3, Loss: 0.0007\n",
      "Epoch 3/3, Loss: 0.0001\n"
     ]
    }
   ],
   "source": [
    "# Instantiate the VIB model\n",
    "vib = VIB(input_dim, latent_dim, beta)\n",
    "\n",
    "# Define the optimizer\n",
    "optimizer = optim.Adam(vib.parameters(), lr=learning_rate)\n",
    "\n",
    "def train_model():\n",
    "    losses = []\n",
    "    # Training loop\n",
    "    vib.train()\n",
    "    for epoch in range(num_epochs):\n",
    "        total_loss = 0\n",
    "        for batch_idx, data in enumerate(train_loader):\n",
    "            optimizer.zero_grad()\n",
    "            recon_batch, mu, log_var = vib(data[0])\n",
    "            reconstruction_loss = cross_entropy_loss(recon_batch, data[0])\n",
    "            bottleneck_loss = information_bottleneck_loss(mu, log_var)\n",
    "            loss = reconstruction_loss * bottleneck_loss\n",
    "            loss.backward()\n",
    "            optimizer.step()\n",
    "            total_loss += loss.item()\n",
    "        losses.append(total_loss/len(train_loader.dataset))\n",
    "        print(f'Epoch {epoch+1}/{num_epochs}, Loss: {total_loss/len(train_loader.dataset):.4f}')\n",
    "    return losses\n",
    "\n",
    "losses = train_model()\n"
   ]
  },
  {
   "attachments": {},
   "cell_type": "markdown",
   "metadata": {},
   "source": [
    "## Generate Data"
   ]
  },
  {
   "cell_type": "code",
   "execution_count": 40,
   "metadata": {},
   "outputs": [],
   "source": [
    "# Generate synthetic data\n",
    "def generate_synthetic_data(vib, num_samples):\n",
    "    vib.eval()\n",
    "    with torch.no_grad():\n",
    "        z = torch.randn(num_samples, latent_dim)\n",
    "        synthetic_data = vib.decoder(z)\n",
    "        synthetic_data = data_inversify(synthetic_data)\n",
    "    return synthetic_data\n",
    "\n",
    "# Generate 10 synthetic data samples\n",
    "synthetic_data = generate_synthetic_data(vib, 10)\n",
    "\n",
    "synthetic_data.to_csv(\"generated_synth_data.csv\")"
   ]
  },
  {
   "attachments": {},
   "cell_type": "markdown",
   "metadata": {},
   "source": [
    "## Plot Loss "
   ]
  },
  {
   "cell_type": "code",
   "execution_count": 41,
   "metadata": {},
   "outputs": [
    {
     "data": {
      "text/plain": [
       "[<matplotlib.lines.Line2D at 0x14a654290>]"
      ]
     },
     "execution_count": 41,
     "metadata": {},
     "output_type": "execute_result"
    },
    {
     "data": {
      "image/png": "[encoded data removed]",
      "text/plain": [
       "<Figure size 640x480 with 1 Axes>"
      ]
     },
     "metadata": {},
     "output_type": "display_data"
    }
   ],
   "source": [
    "plt.plot(range(num_epochs), losses)"
   ]
  }
 ],
 "metadata": {
  "kernelspec": {
   "display_name": "Python 3",
   "language": "python",
   "name": "python3"
  },
  "language_info": {
   "codemirror_mode": {
    "name": "ipython",
    "version": 3
   },
   "file_extension": ".py",
   "mimetype": "text/x-python",
   "name": "python",
   "nbconvert_exporter": "python",
   "pygments_lexer": "ipython3",
   "version": "3.11.5"
  },
  "orig_nbformat": 4,
  "vscode": {
   "interpreter": {
    "hash": "aee8b7b246df8f9039afb4144a1f6fd8d2ca17a180786b69acc140d282b71a49"
   }
  }
 },
 "nbformat": 4,
 "nbformat_minor": 2
}
